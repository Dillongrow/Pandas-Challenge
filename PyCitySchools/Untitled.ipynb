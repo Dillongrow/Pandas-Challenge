{
 "cells": [
  {
   "cell_type": "code",
   "execution_count": 10,
   "metadata": {},
   "outputs": [],
   "source": [
    "import pandas as pd"
   ]
  },
  {
   "cell_type": "code",
   "execution_count": 11,
   "metadata": {},
   "outputs": [],
   "source": [
    "school_data_to_load = \"../Resources/schools_complete.csv\"\n",
    "student_data_to_load = \"../Resources/students_complete.csv\"\n",
    "\n",
    "school_data = pd.read_csv(school_data_to_load)\n",
    "student_data = pd.read_csv(student_data_to_load)\n",
    "\n",
    "school_data_complete = pd.merge(student_data, school_data, how=\"left\", on=[\"school_name\", \"school_name\"])"
   ]
  },
  {
   "cell_type": "code",
   "execution_count": 22,
   "metadata": {},
   "outputs": [
    {
     "data": {
      "text/html": [
       "<div>\n",
       "<style scoped>\n",
       "    .dataframe tbody tr th:only-of-type {\n",
       "        vertical-align: middle;\n",
       "    }\n",
       "\n",
       "    .dataframe tbody tr th {\n",
       "        vertical-align: top;\n",
       "    }\n",
       "\n",
       "    .dataframe thead th {\n",
       "        text-align: right;\n",
       "    }\n",
       "</style>\n",
       "<table border=\"1\" class=\"dataframe\">\n",
       "  <thead>\n",
       "    <tr style=\"text-align: right;\">\n",
       "      <th></th>\n",
       "      <th>Total Schools</th>\n",
       "      <th>Total Students</th>\n",
       "      <th>Total Budget</th>\n",
       "      <th>Average Math Score</th>\n",
       "      <th>Average Reading Score</th>\n",
       "      <th>% Passing Math</th>\n",
       "      <th>% Passing Reading</th>\n",
       "      <th>% Passing Overall</th>\n",
       "    </tr>\n",
       "  </thead>\n",
       "  <tbody>\n",
       "    <tr>\n",
       "      <td>0</td>\n",
       "      <td>15</td>\n",
       "      <td>39170</td>\n",
       "      <td>24649428</td>\n",
       "      <td>78.985371</td>\n",
       "      <td>81.87784</td>\n",
       "      <td>0.749809</td>\n",
       "      <td>0.858055</td>\n",
       "      <td>0.803932</td>\n",
       "    </tr>\n",
       "  </tbody>\n",
       "</table>\n",
       "</div>"
      ],
      "text/plain": [
       "   Total Schools  Total Students  Total Budget  Average Math Score  \\\n",
       "0             15           39170      24649428           78.985371   \n",
       "\n",
       "   Average Reading Score  % Passing Math  % Passing Reading  % Passing Overall  \n",
       "0               81.87784        0.749809           0.858055           0.803932  "
      ]
     },
     "execution_count": 22,
     "metadata": {},
     "output_type": "execute_result"
    }
   ],
   "source": [
    "dis_school_total=len(school_data_complete[\"school_name\"].unique())\n",
    "dis_students_total=school_data[\"size\"].sum()\n",
    "dis_budget_total=school_data[\"budget\"].sum()\n",
    "\n",
    "dis_math_average=student_data[\"math_score\"].mean()\n",
    "dis_reading_average=student_data[\"reading_score\"].mean()\n",
    "\n",
    "dis_passing_math=student_data.loc[student_data[\"math_score\"]>=70][\"student_name\"].count()\n",
    "dis_percent_passing_math=dis_passing_math/dis_students_total\n",
    "\n",
    "dis_passing_reading=student_data.loc[student_data[\"reading_score\"]>=70][\"student_name\"].count()\n",
    "dis_percent_passing_reading=dis_passing_reading/dis_students_total\n",
    "\n",
    "dis_passing_overall=(dis_percent_passing_math+dis_percent_passing_reading)/2\n",
    "\n",
    "dis_summary=pd.DataFrame({\"Total Schools\": [dis_school_total],\n",
    "                          \"Total Students\": [dis_students_total],\n",
    "                          \"Total Budget\": [dis_budget_total],\n",
    "                          \"Average Math Score\": [dis_math_average],\n",
    "                          \"Average Reading Score\": [dis_reading_average],\n",
    "                          \"% Passing Math\": [dis_percent_passing_math],\n",
    "                          \"% Passing Reading\": [dis_percent_passing_reading],\n",
    "                          \"% Passing Overall\": [dis_passing_overall]\n",
    "                         })\n",
    "dis_summary"
   ]
  },
  {
   "cell_type": "code",
   "execution_count": null,
   "metadata": {},
   "outputs": [],
   "source": []
  }
 ],
 "metadata": {
  "kernelspec": {
   "display_name": "Python 3",
   "language": "python",
   "name": "python3"
  },
  "language_info": {
   "codemirror_mode": {
    "name": "ipython",
    "version": 3
   },
   "file_extension": ".py",
   "mimetype": "text/x-python",
   "name": "python",
   "nbconvert_exporter": "python",
   "pygments_lexer": "ipython3",
   "version": "3.7.4"
  }
 },
 "nbformat": 4,
 "nbformat_minor": 2
}
